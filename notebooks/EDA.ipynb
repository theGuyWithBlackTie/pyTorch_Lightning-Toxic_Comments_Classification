{
 "cells": [
  {
   "cell_type": "code",
   "execution_count": 1,
   "id": "d223f4ca-82ae-4553-9421-76b6624ce4f9",
   "metadata": {},
   "outputs": [],
   "source": [
    "import pandas as pd"
   ]
  },
  {
   "cell_type": "code",
   "execution_count": 2,
   "id": "7d73d999-9c53-4993-bdfa-bd73244d3e10",
   "metadata": {},
   "outputs": [
    {
     "data": {
      "text/html": [
       "<div>\n",
       "<style scoped>\n",
       "    .dataframe tbody tr th:only-of-type {\n",
       "        vertical-align: middle;\n",
       "    }\n",
       "\n",
       "    .dataframe tbody tr th {\n",
       "        vertical-align: top;\n",
       "    }\n",
       "\n",
       "    .dataframe thead th {\n",
       "        text-align: right;\n",
       "    }\n",
       "</style>\n",
       "<table border=\"1\" class=\"dataframe\">\n",
       "  <thead>\n",
       "    <tr style=\"text-align: right;\">\n",
       "      <th></th>\n",
       "      <th>id</th>\n",
       "      <th>comment_text</th>\n",
       "      <th>toxic</th>\n",
       "      <th>severe_toxic</th>\n",
       "      <th>obscene</th>\n",
       "      <th>threat</th>\n",
       "      <th>insult</th>\n",
       "      <th>identity_hate</th>\n",
       "    </tr>\n",
       "  </thead>\n",
       "  <tbody>\n",
       "    <tr>\n",
       "      <th>0</th>\n",
       "      <td>0000997932d777bf</td>\n",
       "      <td>Explanation\\nWhy the edits made under my usern...</td>\n",
       "      <td>0</td>\n",
       "      <td>0</td>\n",
       "      <td>0</td>\n",
       "      <td>0</td>\n",
       "      <td>0</td>\n",
       "      <td>0</td>\n",
       "    </tr>\n",
       "    <tr>\n",
       "      <th>1</th>\n",
       "      <td>000103f0d9cfb60f</td>\n",
       "      <td>D'aww! He matches this background colour I'm s...</td>\n",
       "      <td>0</td>\n",
       "      <td>0</td>\n",
       "      <td>0</td>\n",
       "      <td>0</td>\n",
       "      <td>0</td>\n",
       "      <td>0</td>\n",
       "    </tr>\n",
       "    <tr>\n",
       "      <th>2</th>\n",
       "      <td>000113f07ec002fd</td>\n",
       "      <td>Hey man, I'm really not trying to edit war. It...</td>\n",
       "      <td>0</td>\n",
       "      <td>0</td>\n",
       "      <td>0</td>\n",
       "      <td>0</td>\n",
       "      <td>0</td>\n",
       "      <td>0</td>\n",
       "    </tr>\n",
       "    <tr>\n",
       "      <th>3</th>\n",
       "      <td>0001b41b1c6bb37e</td>\n",
       "      <td>\"\\nMore\\nI can't make any real suggestions on ...</td>\n",
       "      <td>0</td>\n",
       "      <td>0</td>\n",
       "      <td>0</td>\n",
       "      <td>0</td>\n",
       "      <td>0</td>\n",
       "      <td>0</td>\n",
       "    </tr>\n",
       "    <tr>\n",
       "      <th>4</th>\n",
       "      <td>0001d958c54c6e35</td>\n",
       "      <td>You, sir, are my hero. Any chance you remember...</td>\n",
       "      <td>0</td>\n",
       "      <td>0</td>\n",
       "      <td>0</td>\n",
       "      <td>0</td>\n",
       "      <td>0</td>\n",
       "      <td>0</td>\n",
       "    </tr>\n",
       "  </tbody>\n",
       "</table>\n",
       "</div>"
      ],
      "text/plain": [
       "                 id                                       comment_text  toxic  \\\n",
       "0  0000997932d777bf  Explanation\\nWhy the edits made under my usern...      0   \n",
       "1  000103f0d9cfb60f  D'aww! He matches this background colour I'm s...      0   \n",
       "2  000113f07ec002fd  Hey man, I'm really not trying to edit war. It...      0   \n",
       "3  0001b41b1c6bb37e  \"\\nMore\\nI can't make any real suggestions on ...      0   \n",
       "4  0001d958c54c6e35  You, sir, are my hero. Any chance you remember...      0   \n",
       "\n",
       "   severe_toxic  obscene  threat  insult  identity_hate  \n",
       "0             0        0       0       0              0  \n",
       "1             0        0       0       0              0  \n",
       "2             0        0       0       0              0  \n",
       "3             0        0       0       0              0  \n",
       "4             0        0       0       0              0  "
      ]
     },
     "execution_count": 2,
     "metadata": {},
     "output_type": "execute_result"
    }
   ],
   "source": [
    "train_file_path = \"../data/train.csv\"\n",
    "\n",
    "train_df = pd.read_csv(train_file_path)\n",
    "train_df.head()"
   ]
  },
  {
   "cell_type": "markdown",
   "id": "ed958c86-6700-4b97-81c0-82aae53717fa",
   "metadata": {},
   "source": [
    "### Cleaning Comment Text Logic\n",
    "\n",
    "1. Wherever there is space followed by \\n, replace it with \\n\n",
    "2. Wherever there is '\\n' between two alphanumeric characters, replace it with a full-stop (\".\")\n",
    "3. Wherever a text is starting with '\\n' or a space (\" \") or any punctuation or any combination of them, remove it."
   ]
  },
  {
   "cell_type": "code",
   "execution_count": 12,
   "id": "5e7097a2-0c5c-458d-bc62-6e862cfc177c",
   "metadata": {},
   "outputs": [],
   "source": [
    "import re\n",
    "\n",
    "def clean_comments_text(comment: str):\n",
    "    processed_text = re.sub(r' \\n', '\\n', comment) # Replacing \"space\\n\" with \\n\n",
    "    processed_text = re.sub(r'\\n+', '. ', processed_text) # Replacing multiples \\n with \". \"\n",
    "    processed_text = re.sub(r'^[^a-zA-Z0-9]+', '', processed_text) # Replacing\n",
    "    return processed_text"
   ]
  },
  {
   "cell_type": "markdown",
   "id": "fe61110c-6132-4e86-a857-102bcd399463",
   "metadata": {},
   "source": [
    "#### Coverting Data into Dictionary"
   ]
  },
  {
   "cell_type": "code",
   "execution_count": 22,
   "id": "359835ae-0ad7-4bef-b2ff-e9b8a168d60f",
   "metadata": {},
   "outputs": [],
   "source": [
    "def convert_data_to_dict(data_df):\n",
    "    data_list = []\n",
    "    for index in range(0, data_df.shape[0]):\n",
    "        temp_dict = {\n",
    "            \"comment\": clean_comments_text(data_df.iloc[index].comment_text),\n",
    "            \"toxic\": int(data_df.iloc[index].toxic),\n",
    "            \"severe_toxic\": int(data_df.iloc[index].severe_toxic),\n",
    "            \"obscene\": int(data_df.iloc[index].obscene),\n",
    "            \"threat\": int(data_df.iloc[index].threat),\n",
    "            \"insult\": int(data_df.iloc[index].insult),\n",
    "            \"identity_hate\": int(data_df.iloc[index].identity_hate)\n",
    "        }\n",
    "\n",
    "        if temp_dict[\"toxic\"] + temp_dict[\"severe_toxic\"] + temp_dict[\"obscene\"] + temp_dict[\"threat\"] + temp_dict[\"insult\"] + temp_dict[\"identity_hate\"] >= 1:\n",
    "            temp_dict[\"no_toxicity\"] = 0\n",
    "        else:\n",
    "            temp_dict[\"no_toxicity\"] = 1\n",
    "\n",
    "        data_list.append(temp_dict)\n",
    "        index += 1\n",
    "\n",
    "    return data_list"
   ]
  },
  {
   "cell_type": "code",
   "execution_count": 23,
   "id": "9cefc924-b05d-4ee4-9e91-38bc858e2a0b",
   "metadata": {},
   "outputs": [],
   "source": [
    "train_dict = convert_data_to_dict(train_df)"
   ]
  },
  {
   "cell_type": "code",
   "execution_count": 25,
   "id": "323f1a63-47a9-46ef-a8e7-8ba9d0c3ef07",
   "metadata": {},
   "outputs": [
    {
     "name": "stdout",
     "output_type": "stream",
     "text": [
      "The length of train_dict is  159571\n"
     ]
    }
   ],
   "source": [
    "print(\"The length of train_dict is \",len(train_dict))"
   ]
  },
  {
   "cell_type": "markdown",
   "id": "7dcb8d0f-03f5-4300-9114-87d4730c2eae",
   "metadata": {},
   "source": [
    "#### Splitting data in balanced way"
   ]
  },
  {
   "cell_type": "code",
   "execution_count": null,
   "id": "ffc74c9d-a3b8-42e5-a4f2-f30203efe653",
   "metadata": {},
   "outputs": [],
   "source": [
    "def split_dataset(dataset, train_ratio, validation_ratio):\n",
    "    pass"
   ]
  }
 ],
 "metadata": {
  "kernelspec": {
   "display_name": "Python 3 (ipykernel)",
   "language": "python",
   "name": "python3"
  },
  "language_info": {
   "codemirror_mode": {
    "name": "ipython",
    "version": 3
   },
   "file_extension": ".py",
   "mimetype": "text/x-python",
   "name": "python",
   "nbconvert_exporter": "python",
   "pygments_lexer": "ipython3",
   "version": "3.10.12"
  }
 },
 "nbformat": 4,
 "nbformat_minor": 5
}
